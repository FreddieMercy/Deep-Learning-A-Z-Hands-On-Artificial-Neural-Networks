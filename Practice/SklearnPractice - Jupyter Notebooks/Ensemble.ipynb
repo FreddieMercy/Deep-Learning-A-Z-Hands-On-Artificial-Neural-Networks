{
 "cells": [
  {
   "cell_type": "code",
   "execution_count": 1,
   "metadata": {},
   "outputs": [
    {
     "name": "stdout",
     "output_type": "stream",
     "text": [
      "0.9619047619047618\n",
      "0.9523809523809523\n",
      "0.9714285714285713\n"
     ]
    }
   ],
   "source": [
    "from sklearn.ensemble import BaggingClassifier, RandomForestClassifier, ExtraTreesClassifier\n",
    "# ensemble means \"vote\"\n",
    "from sklearn.neighbors import KNeighborsClassifier\n",
    "\n",
    "from sklearn.datasets import load_iris\n",
    "from sklearn.model_selection import train_test_split, cross_val_score, cross_val_predict\n",
    "\n",
    "data_i, targeti = load_iris(return_X_y=True)\n",
    "data_train, data_test, target_train, target_test = train_test_split(data_i, targeti, random_state=42,\n",
    "                                                                    stratify=targeti, test_size=0.7)\n",
    "\n",
    "bagging = BaggingClassifier(max_samples=0.5,  # half rows\n",
    "                            max_features=0.5,  # half columns\n",
    "                            base_estimator=KNeighborsClassifier())\n",
    "\n",
    "# better than Bagging: can define how many estimators, rather than unknown number of estimators\n",
    "# worse than Bagging: cannot define the base_estimator\n",
    "\n",
    "rndForest = RandomForestClassifier(n_estimators=10)\n",
    "\n",
    "exTree = ExtraTreesClassifier(max_samples=0.5,  # half rows\n",
    "                              max_features=0.5,  # half columns\n",
    "                              n_estimators=10)\n",
    "\n",
    "bagging.fit(data_train, target_train)\n",
    "rndForest.fit(data_train, target_train)\n",
    "exTree.fit(data_train, target_train)\n",
    "\n",
    "print(cross_val_score(bagging, data_test, target_test, cv=5).mean())\n",
    "print(cross_val_score(rndForest, data_test, target_test, cv=5).mean())\n",
    "print(cross_val_score(exTree, data_test, target_test, cv=5).mean())\n",
    "\n"
   ]
  },
  {
   "cell_type": "code",
   "execution_count": 2,
   "metadata": {},
   "outputs": [
    {
     "name": "stdout",
     "output_type": "stream",
     "text": [
      "[0 0 2 0 0 0 2 1 1 1 1 1 0 2 1 0 2 1 0 0 0 0 2 2 1 1 2 1 0 1 1 2 1 2 0 1 1\n",
      " 0 2 2 2 0 2 1 0 1 0 0 0 1 0 0 2 1 2 0 2 1 0 2 2 0 2 2 2 2 1 2 0 2 1 2 0 0\n",
      " 2 1 0 1 0 2 2 1 1 2 1 0 1 1 1 0 0 2 1 2 1 2 1 2 1 0 0 1 0 1 1]\n",
      "[0 0 2 0 0 0 2 1 1 1 1 1 0 2 1 0 2 1 0 0 0 0 2 2 1 1 2 1 0 2 1 2 1 1 0 1 1\n",
      " 0 2 2 2 0 2 1 0 1 0 0 0 1 0 0 2 2 2 0 2 1 0 2 2 0 2 2 2 2 1 2 0 2 2 2 0 0\n",
      " 2 1 0 1 0 2 2 1 1 2 1 0 1 1 1 0 0 2 1 2 2 2 1 2 1 0 0 1 0 1 1]\n",
      "[0 0 2 0 0 0 2 1 1 1 1 1 0 2 1 0 2 1 0 0 0 0 2 2 1 1 2 1 0 2 1 2 1 1 0 1 1\n",
      " 0 2 2 2 0 2 1 0 1 0 0 0 1 0 0 2 1 2 0 2 1 0 2 2 0 2 2 2 2 1 2 0 2 2 2 0 0\n",
      " 2 1 0 1 0 2 2 1 1 2 1 0 1 1 1 0 0 2 1 2 2 2 1 2 1 0 0 1 0 1 1]\n"
     ]
    }
   ],
   "source": [
    "\n",
    "print(cross_val_predict(bagging, data_test, target_test, cv=5))\n",
    "print(cross_val_predict(rndForest, data_test, target_test, cv=5))\n",
    "print(cross_val_predict(exTree, data_test, target_test, cv=5))"
   ]
  },
  {
   "cell_type": "code",
   "execution_count": null,
   "metadata": {},
   "outputs": [],
   "source": []
  }
 ],
 "metadata": {
  "kernelspec": {
   "display_name": "Python 3",
   "language": "python",
   "name": "python3"
  },
  "language_info": {
   "codemirror_mode": {
    "name": "ipython",
    "version": 3
   },
   "file_extension": ".py",
   "mimetype": "text/x-python",
   "name": "python",
   "nbconvert_exporter": "python",
   "pygments_lexer": "ipython3",
   "version": "3.9.1"
  }
 },
 "nbformat": 4,
 "nbformat_minor": 4
}
