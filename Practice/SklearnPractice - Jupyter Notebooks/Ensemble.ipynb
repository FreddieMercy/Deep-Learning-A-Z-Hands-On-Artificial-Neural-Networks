{
 "cells": [
  {
   "cell_type": "code",
   "execution_count": 3,
   "metadata": {},
   "outputs": [
    {
     "name": "stdout",
     "output_type": "stream",
     "text": [
      "0.980952380952381\n",
      "0.9619047619047618\n",
      "0.9619047619047618\n"
     ]
    }
   ],
   "source": [
    "from sklearn.ensemble import BaggingClassifier, RandomForestClassifier, ExtraTreesClassifier\n",
    "# ensemble means \"vote\"\n",
    "from sklearn.neighbors import KNeighborsClassifier\n",
    "\n",
    "from sklearn.datasets import load_iris\n",
    "from sklearn.model_selection import train_test_split, cross_val_score, cross_val_predict\n",
    "\n",
    "data_i, targeti = load_iris(return_X_y=True)\n",
    "data_train, data_test, target_train, target_test = train_test_split(data_i, targeti, random_state=42,\n",
    "                                                                    stratify=targeti, test_size=0.7)\n",
    "\n",
    "bagging = BaggingClassifier(max_samples=0.5,  # half rows\n",
    "                            max_features=0.5,  # half columns\n",
    "                            base_estimator=KNeighborsClassifier())\n",
    "\n",
    "# better than Bagging: can define how many estimators, rather than unknown number of estimators\n",
    "# worse than Bagging: cannot define the base_estimator\n",
    "rndForest = RandomForestClassifier(n_estimators=10)\n",
    "\n",
    "exTree = ExtraTreesClassifier(max_samples=0.5,  # half rows\n",
    "                              max_features=0.5,  # half columns\n",
    "                              n_estimators=10)\n",
    "\n",
    "# Basically the same\n",
    "bagging.fit(data_train, target_train)\n",
    "rndForest.fit(data_train, target_train)\n",
    "exTree.fit(data_train, target_train)\n",
    "\n",
    "print(cross_val_score(bagging, data_test, target_test, cv=5).mean())\n",
    "print(cross_val_score(rndForest, data_test, target_test, cv=5).mean())\n",
    "print(cross_val_score(exTree, data_test, target_test, cv=5).mean())\n"
   ]
  },
  {
   "cell_type": "code",
   "execution_count": 4,
   "metadata": {},
   "outputs": [
    {
     "name": "stdout",
     "output_type": "stream",
     "text": [
      "[0 0 2 0 0 0 2 1 1 1 1 1 0 2 1 0 2 1 0 0 0 0 2 2 1 1 2 1 0 2 1 2 1 1 0 1 1\n",
      " 0 1 2 2 0 2 1 0 1 0 0 0 1 0 0 2 1 2 0 2 1 0 2 2 0 2 2 2 2 1 2 0 2 1 2 0 0\n",
      " 2 1 0 1 0 2 2 1 1 2 1 0 1 1 1 0 0 2 1 2 2 2 1 2 1 0 0 1 0 1 1]\n",
      "[0 0 2 0 0 0 2 1 1 1 1 1 0 2 1 0 2 1 0 0 0 0 2 2 1 1 2 1 0 2 1 2 1 1 0 1 1\n",
      " 0 1 2 2 0 2 1 0 1 0 0 0 1 0 0 2 1 2 0 2 1 0 2 2 0 2 2 2 2 1 2 0 2 1 2 0 0\n",
      " 2 1 0 1 0 2 2 1 1 2 1 0 1 1 1 0 0 2 1 2 2 2 1 2 1 0 0 1 0 1 1]\n",
      "[0 0 2 0 0 0 2 1 1 1 1 1 0 2 1 0 2 1 0 0 0 0 2 2 1 1 2 1 0 2 1 2 1 1 0 1 1\n",
      " 0 2 2 2 0 2 1 0 1 0 0 0 1 0 0 2 1 2 0 2 1 0 2 2 0 2 2 2 2 1 2 0 2 2 2 0 0\n",
      " 2 1 0 1 0 2 2 1 1 2 1 0 1 1 1 0 0 2 1 2 2 2 1 2 1 0 0 1 0 1 1]\n"
     ]
    }
   ],
   "source": [
    "print(cross_val_predict(bagging, data_test, target_test, cv=5))\n",
    "print(cross_val_predict(rndForest, data_test, target_test, cv=5))\n",
    "print(cross_val_predict(exTree, data_test, target_test, cv=5))"
   ]
  },
  {
   "cell_type": "code",
   "execution_count": 5,
   "metadata": {},
   "outputs": [
    {
     "name": "stdout",
     "output_type": "stream",
     "text": [
      "0.9619047619047619\n",
      "0.9523809523809523\n",
      "[0 0 2 0 0 0 2 1 1 1 1 1 0 2 1 0 2 1 0 0 0 0 2 2 1 1 2 1 0 2 1 2 1 1 0 2 1\n",
      " 0 1 2 2 0 2 1 0 1 0 0 0 1 0 0 2 2 2 0 2 1 0 2 2 0 2 2 2 2 1 2 0 2 2 2 0 0\n",
      " 2 1 0 1 0 2 2 1 1 2 1 0 1 1 1 0 0 2 1 2 2 2 1 2 1 0 0 1 0 1 1]\n"
     ]
    }
   ],
   "source": [
    "from sklearn.ensemble import AdaBoostClassifier\n",
    "\n",
    "ada_clf = AdaBoostClassifier(n_estimators=100)  # strengthen weakness\n",
    "ada_clf.fit(data_train, target_train)\n",
    "\n",
    "print(ada_clf.score(data_test, target_test))\n",
    "print(cross_val_score(ada_clf, data_test, target_test, cv=5).mean())\n",
    "print(cross_val_predict(ada_clf, data_test, target_test, cv=5))"
   ]
  },
  {
   "cell_type": "code",
   "execution_count": 8,
   "metadata": {},
   "outputs": [
    {
     "name": "stdout",
     "output_type": "stream",
     "text": [
      "0.9428571428571428\n",
      "0.9523809523809523\n",
      "[0 0 2 0 0 0 2 1 1 1 1 1 0 2 1 0 2 1 0 0 0 0 2 2 1 1 2 1 0 2 1 2 1 1 0 1 1\n",
      " 0 2 2 2 0 2 1 0 1 0 0 0 1 0 0 2 1 2 0 2 1 0 2 2 0 2 2 2 2 1 2 0 2 1 2 0 0\n",
      " 2 1 0 1 0 2 2 1 1 2 1 0 1 1 1 0 0 2 1 2 2 2 1 2 1 0 0 1 0 1 1]\n"
     ]
    }
   ],
   "source": [
    "from sklearn.ensemble import GradientBoostingClassifier, GradientBoostingRegressor\n",
    "\n",
    "gbc = GradientBoostingClassifier(n_estimators=100)\n",
    "gbc.fit(data_train, target_train)\n",
    "\n",
    "print(gbc.score(data_test, target_test))\n",
    "print(cross_val_score(gbc, data_test, target_test, cv=5).mean())\n",
    "print(cross_val_predict(gbc, data_test, target_test, cv=5))"
   ]
  },
  {
   "cell_type": "code",
   "execution_count": 9,
   "metadata": {},
   "outputs": [
    {
     "name": "stdout",
     "output_type": "stream",
     "text": [
      "0.9243006688730622\n",
      "0.9261015964741853\n",
      "[ 8.00910343e-05  8.00910343e-05  2.01123916e+00  8.00910343e-05\n",
      " -1.40908063e-04 -1.40908063e-04  1.99859874e+00  1.10413450e+00\n",
      "  8.55008340e-01  9.61433957e-01  9.93588881e-01  9.20617858e-01\n",
      "  8.00910343e-05  2.00731793e+00  1.00071675e+00  8.00910343e-05\n",
      "  1.94076711e+00  9.99746454e-01  8.00910343e-05  1.76350185e-03\n",
      " -1.40908063e-04  1.74116782e-04  1.94711294e+00  2.02473955e+00\n",
      "  1.01945980e+00  1.01320665e+00  1.81856782e+00  1.00148364e+00\n",
      "  1.74116782e-04  2.01760515e+00  1.56023379e+00  2.00266958e+00\n",
      "  1.00093930e+00  9.85129702e-01  1.22057546e-03  1.56085226e+00\n",
      "  9.97287133e-01  1.74116782e-04  1.94036875e+00  1.99789599e+00\n",
      "  1.99940535e+00  1.74116782e-04  1.99737990e+00  9.98702974e-01\n",
      "  2.80764727e-04  1.00383542e+00  2.80764727e-04  2.80764727e-04\n",
      "  2.80764727e-04  9.69247481e-01  2.80764727e-04  1.17313878e-03\n",
      "  1.99924267e+00  1.01051826e+00  1.99784143e+00  2.80764727e-04\n",
      "  2.00021800e+00  9.98992152e-01  1.49961270e-03  2.00079286e+00\n",
      "  1.99807467e+00  2.80764727e-04  2.00028882e+00  1.99934467e+00\n",
      "  2.05103465e+00  1.99824080e+00  1.01015546e+00  1.98228711e+00\n",
      "  1.71132952e-04  2.00229999e+00  1.75033062e+00  2.00034111e+00\n",
      " -1.17065272e-03  1.71132952e-04  1.99169247e+00  9.99358784e-01\n",
      "  1.71132952e-04  9.99747634e-01 -1.17065272e-03  1.99762064e+00\n",
      "  2.00505411e+00  1.00869585e+00  9.48849382e-01  2.00677553e+00\n",
      "  9.85809768e-01  4.09961203e-05  9.99511273e-01  9.99511273e-01\n",
      "  1.00119931e+00  2.56763036e-03  4.09961203e-05  1.98711887e+00\n",
      "  1.23526840e+00  2.02576020e+00  2.08022789e+00  2.03648542e+00\n",
      "  1.16199534e+00  2.00480065e+00  1.00226689e+00  4.09961203e-05\n",
      "  1.39262105e-02  1.17708645e+00  4.09961203e-05  9.99457002e-01\n",
      "  1.00320367e+00]\n"
     ]
    }
   ],
   "source": [
    "gbr = GradientBoostingRegressor(n_estimators=100)  # it is a decision tree, so it could be un-stable?\n",
    "gbr.fit(data_train, target_train)\n",
    "\n",
    "print(gbr.score(data_test, target_test))\n",
    "print(cross_val_score(gbr, data_test, target_test, cv=5).mean())\n",
    "print(cross_val_predict(gbr, data_test, target_test, cv=5))"
   ]
  },
  {
   "cell_type": "code",
   "execution_count": null,
   "metadata": {},
   "outputs": [],
   "source": []
  }
 ],
 "metadata": {
  "kernelspec": {
   "display_name": "Python 3",
   "language": "python",
   "name": "python3"
  },
  "language_info": {
   "codemirror_mode": {
    "name": "ipython",
    "version": 3
   },
   "file_extension": ".py",
   "mimetype": "text/x-python",
   "name": "python",
   "nbconvert_exporter": "python",
   "pygments_lexer": "ipython3",
   "version": "3.9.1"
  }
 },
 "nbformat": 4,
 "nbformat_minor": 4
}
