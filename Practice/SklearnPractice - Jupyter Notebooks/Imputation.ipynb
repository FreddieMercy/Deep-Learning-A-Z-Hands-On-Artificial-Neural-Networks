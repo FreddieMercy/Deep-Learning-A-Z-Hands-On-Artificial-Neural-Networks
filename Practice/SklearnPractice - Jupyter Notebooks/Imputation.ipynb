{
 "cells": [
  {
   "cell_type": "code",
   "execution_count": 1,
   "metadata": {},
   "outputs": [
    {
     "name": "stdout",
     "output_type": "stream",
     "text": [
      "[[5, 10, 15, 20, 25], [30, 35, 40, 45, 50], [55, 60, 65, 70, 75], [80, 85, 90, 95, 100], [105, 110, 115, 120, 125]]\n",
      "[[5, 10, 15, None, 25], [30, 35, 40, 45, 50], [55, 60, 65, 70, 75], [None, 85, None, 95, None], [105, 110, 115, 120, 125]]\n",
      "\n"
     ]
    }
   ],
   "source": [
    "import random\n",
    "\n",
    "\n",
    "def splitTrainTest(limit=5, gap=5, seed=0):\n",
    "    expected = []\n",
    "    matrix = []\n",
    "\n",
    "    itera = 0\n",
    "\n",
    "    random.seed(seed)\n",
    "\n",
    "    for r in range(0, limit):\n",
    "        expected.append([i for i in range(0, limit)])\n",
    "        matrix.append([i for i in range(0, limit)])\n",
    "        for c in range(0, limit):\n",
    "            itera += gap\n",
    "            expected[r][c] = itera\n",
    "            if random.randint(0, 100) > 20:\n",
    "                matrix[r][c] = itera\n",
    "            else:\n",
    "                matrix[r][c] = None\n",
    "\n",
    "    return expected, matrix\n",
    "\n",
    "\n",
    "def evaluateImputation(expected, matrix):\n",
    "    score = 0\n",
    "    total = 0\n",
    "    for r in range(0, len(matrix)):\n",
    "        for c in range(0, len(matrix[0])):\n",
    "            if matrix[r][c] == expected[r][c]:\n",
    "                score += 1\n",
    "            total += 1\n",
    "\n",
    "    return (score / total) * 100\n",
    "\n",
    "\n",
    "expected, matrix = splitTrainTest()\n",
    "\n",
    "print(expected)\n",
    "print(matrix)\n",
    "\n",
    "print()\n",
    "\n"
   ]
  },
  {
   "cell_type": "code",
   "execution_count": 2,
   "metadata": {},
   "outputs": [
    {
     "name": "stdout",
     "output_type": "stream",
     "text": [
      "* KNNImputer:\n",
      "\n",
      "84.0\n",
      "96.0\n",
      "84.0\n",
      "84.0\n",
      "84.0\n",
      "84.0\n"
     ]
    }
   ],
   "source": [
    "from sklearn.impute import KNNImputer\n",
    "\n",
    "knn1 = KNNImputer(n_neighbors=1)\n",
    "knn2 = KNNImputer(n_neighbors=2)\n",
    "knn3 = KNNImputer(n_neighbors=3)\n",
    "knn4 = KNNImputer(n_neighbors=4)\n",
    "knn5 = KNNImputer(n_neighbors=5)\n",
    "knn6 = KNNImputer(n_neighbors=6)\n",
    "\n",
    "print(\"* KNNImputer:\\n\")\n",
    "\n",
    "print(evaluateImputation(knn1.fit_transform(matrix), expected))\n",
    "print(evaluateImputation(knn2.fit_transform(matrix), expected))\n",
    "print(evaluateImputation(knn3.fit_transform(matrix), expected))\n",
    "print(evaluateImputation(knn4.fit_transform(matrix), expected))\n",
    "print(evaluateImputation(knn5.fit_transform(matrix), expected))\n",
    "print(evaluateImputation(knn6.fit_transform(matrix), expected))\n",
    "\n"
   ]
  },
  {
   "cell_type": "code",
   "execution_count": null,
   "metadata": {},
   "outputs": [],
   "source": []
  }
 ],
 "metadata": {
  "kernelspec": {
   "display_name": "Python 3",
   "language": "python",
   "name": "python3"
  },
  "language_info": {
   "codemirror_mode": {
    "name": "ipython",
    "version": 3
   },
   "file_extension": ".py",
   "mimetype": "text/x-python",
   "name": "python",
   "nbconvert_exporter": "python",
   "pygments_lexer": "ipython3",
   "version": "3.9.1"
  }
 },
 "nbformat": 4,
 "nbformat_minor": 4
}
