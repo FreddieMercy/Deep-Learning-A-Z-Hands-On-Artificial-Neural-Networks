{
 "cells": [
  {
   "cell_type": "code",
   "execution_count": 1,
   "metadata": {},
   "outputs": [
    {
     "name": "stdout",
     "output_type": "stream",
     "text": [
      "[[0 1 2]\n",
      " [1 0 2]\n",
      " [2 1 0]\n",
      " [3 4 5]\n",
      " [4 3 5]\n",
      " [5 4 3]]\n",
      "[[0.         1.         2.23606798]\n",
      " [0.         1.         1.41421356]\n",
      " [0.         1.41421356 2.23606798]\n",
      " [0.         1.         2.23606798]\n",
      " [0.         1.         1.41421356]\n",
      " [0.         1.41421356 2.23606798]]\n"
     ]
    }
   ],
   "source": [
    "from sklearn import neighbors\n",
    "import numpy as np\n",
    "\n",
    "data = np.array([[-1, -1], [-2, -1], [-3, -2], [1, 1], [2, 1], [3, 2]])\n",
    "\n",
    "# default n_neighbors = 5, it has to be >= data.length\n",
    "nbrs = neighbors.NearestNeighbors(n_neighbors=3, algorithm='ball_tree').fit(data)\n",
    "distances_to_data, indicesOf_data = nbrs.kneighbors(data)\n",
    "\n",
    "# length of each row of indicesOf_data is equal to n_neighbors\n",
    "print(indicesOf_data)  # indices of data. (i.e: if indices is [1 0 3], it means data[1], data[0] and data[3])\n",
    "# length of each row of distances_to_data is equal to n_neighbors\n",
    "print(distances_to_data)  # distance to each point. i.e: if indices is [1 0 3], it means:\n",
    "# [{distance to data[1]}, {distance to data[0]}, {distance to data[3]}])\n"
   ]
  },
  {
   "cell_type": "code",
   "execution_count": 2,
   "metadata": {},
   "outputs": [
    {
     "name": "stdout",
     "output_type": "stream",
     "text": [
      "  (0, 0)\t1.0\n",
      "  (0, 1)\t1.0\n",
      "  (0, 2)\t1.0\n",
      "  (1, 1)\t1.0\n",
      "  (1, 0)\t1.0\n",
      "  (1, 2)\t1.0\n",
      "  (2, 2)\t1.0\n",
      "  (2, 1)\t1.0\n",
      "  (2, 0)\t1.0\n",
      "  (3, 3)\t1.0\n",
      "  (3, 4)\t1.0\n",
      "  (3, 5)\t1.0\n",
      "  (4, 4)\t1.0\n",
      "  (4, 3)\t1.0\n",
      "  (4, 5)\t1.0\n",
      "  (5, 5)\t1.0\n",
      "  (5, 4)\t1.0\n",
      "  (5, 3)\t1.0\n"
     ]
    }
   ],
   "source": [
    "print(nbrs.kneighbors_graph(data))  # (A, B) $(A and B are neighbors or not)\n",
    "# i.e: there is a row: (2, 1) 1.0 -> are data[2] and data[1] neighbors or not? 1 means yes, 0 means no\n",
    "# (or return the possibility from 0.0 to 1.0)"
   ]
  },
  {
   "cell_type": "code",
   "execution_count": 4,
   "metadata": {},
   "outputs": [
    {
     "name": "stdout",
     "output_type": "stream",
     "text": [
      "[[0 1 2 3 4 5]\n",
      " [1 0 2 3 4 5]\n",
      " [2 1 0 3 4 5]\n",
      " [3 4 5 0 1 2]\n",
      " [4 3 5 0 1 2]\n",
      " [5 4 3 0 1 2]]\n"
     ]
    }
   ],
   "source": [
    "# nbrs can use KD Tree rather than ball tree, which looks like this:\n",
    "kdt = neighbors.KDTree(data,\n",
    "                       leaf_size=30,  # only effects performance, won't affect result.\n",
    "                       metric='euclidean')\n",
    "print(kdt.query(data,\n",
    "                k=6,  # number of neighbors, can be at most data.length\n",
    "                return_distance=False))"
   ]
  },
  {
   "cell_type": "code",
   "execution_count": 6,
   "metadata": {},
   "outputs": [
    {
     "name": "stdout",
     "output_type": "stream",
     "text": [
      "[8]\n",
      "[8]\n"
     ]
    }
   ],
   "source": [
    "nc = neighbors.NearestCentroid()\n",
    "from sklearn import svm\n",
    "\n",
    "svc = svm.SVC()\n",
    "\n",
    "data2 = np.array([np.arange(0, 9), np.arange(0, 9)])\n",
    "data2 = data2.T\n",
    "target2 = np.arange(0, 9)\n",
    "\n",
    "nc.fit(data2, target2)\n",
    "svc.fit(data2, target2)\n",
    "\n",
    "print(nc.predict([[100000, -100]]))\n",
    "print(svc.predict([[100000, -100]]))"
   ]
  },
  {
   "cell_type": "code",
   "execution_count": 14,
   "metadata": {},
   "outputs": [
    {
     "name": "stdout",
     "output_type": "stream",
     "text": [
      "  (0, 0)\t0.0\n",
      "  (0, 1)\t1.4142135623730951\n",
      "  (1, 1)\t0.0\n",
      "  (1, 0)\t1.4142135623730951\n",
      "  (2, 2)\t0.0\n",
      "  (2, 1)\t1.4142135623730951\n",
      "  (3, 3)\t0.0\n",
      "  (3, 2)\t1.4142135623730951\n",
      "  (4, 4)\t0.0\n",
      "  (4, 3)\t1.4142135623730951\n",
      "  (5, 5)\t0.0\n",
      "  (5, 4)\t1.4142135623730951\n",
      "  (6, 6)\t0.0\n",
      "  (6, 5)\t1.4142135623730951\n",
      "  (7, 7)\t0.0\n",
      "  (7, 6)\t1.4142135623730951\n",
      "  (8, 8)\t0.0\n",
      "  (8, 7)\t1.4142135623730951\n"
     ]
    }
   ],
   "source": [
    "knt_d = neighbors.KNeighborsTransformer(n_neighbors=1, mode='distance')\n",
    "# prints: (point A, point B) $(distance)\n",
    "print(knt_d.fit_transform(data2, target2))  # either (point itself, point itself), or (point A, point B)"
   ]
  },
  {
   "cell_type": "code",
   "execution_count": 15,
   "metadata": {},
   "outputs": [
    {
     "name": "stdout",
     "output_type": "stream",
     "text": [
      "  (0, 0)\t1.0\n",
      "  (1, 1)\t1.0\n",
      "  (2, 2)\t1.0\n",
      "  (3, 3)\t1.0\n",
      "  (4, 4)\t1.0\n",
      "  (5, 5)\t1.0\n",
      "  (6, 6)\t1.0\n",
      "  (7, 7)\t1.0\n",
      "  (8, 8)\t1.0\n"
     ]
    }
   ],
   "source": [
    "# prints: (point A, point B) $(is neighbor or not: 1 == yes, 0 == no). Just like the kneighbors_graph\n",
    "knt_c = neighbors.KNeighborsTransformer(n_neighbors=1, mode='connectivity')\n",
    "print(knt_c.fit_transform(data2, target2))"
   ]
  },
  {
   "cell_type": "code",
   "execution_count": 16,
   "metadata": {},
   "outputs": [],
   "source": [
    "from sklearn.pipeline import make_pipeline\n",
    "from sklearn.manifold import Isomap\n",
    "\n",
    "estimator = make_pipeline(\n",
    "    neighbors.KNeighborsTransformer(n_neighbors=5, mode='distance'),\n",
    "    # Isomap is a 降维 method, 用来提速\n",
    "    Isomap(neighbors_algorithm='precomputed'))"
   ]
  },
  {
   "cell_type": "code",
   "execution_count": null,
   "metadata": {},
   "outputs": [],
   "source": []
  }
 ],
 "metadata": {
  "kernelspec": {
   "display_name": "Python 3",
   "language": "python",
   "name": "python3"
  },
  "language_info": {
   "codemirror_mode": {
    "name": "ipython",
    "version": 3
   },
   "file_extension": ".py",
   "mimetype": "text/x-python",
   "name": "python",
   "nbconvert_exporter": "python",
   "pygments_lexer": "ipython3",
   "version": "3.9.1"
  }
 },
 "nbformat": 4,
 "nbformat_minor": 4
}
